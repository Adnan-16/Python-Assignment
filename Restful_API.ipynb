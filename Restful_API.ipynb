{
  "nbformat": 4,
  "nbformat_minor": 0,
  "metadata": {
    "colab": {
      "provenance": [],
      "toc_visible": true
    },
    "kernelspec": {
      "name": "python3",
      "display_name": "Python 3"
    },
    "language_info": {
      "name": "python"
    }
  },
  "cells": [
    {
      "cell_type": "markdown",
      "source": [
        "THEORITICAL :-"
      ],
      "metadata": {
        "id": "y7tb09ogb6zM"
      }
    },
    {
      "cell_type": "markdown",
      "source": [
        "1) What is a RESTful API ?\n",
        "  - A RESTful API or Representational state Transfer API, is a type of web service API that follows the architectural style of REST. It uses standard HTTP methods to access and manipulate resources, making it a simple, flexible and scalable way for applications to interact with each other over the internet.\n",
        "\n",
        "\n",
        "2) Explain the concept of API specification.\n",
        "  - An API specification is a formal document that details how an API functions, including its operations, endpoints, requests/response structures and data formats. It acts as a blueprint for developers, ensuring consistency and facilitating proper usage and integration of the API.\n",
        "\n",
        "\n",
        "3) What is Flask and why is it popular for building APIs ?\n",
        "  - Flask is a lightweight, flexible python microframework for building web applications. It is particularly well-suited for smaller projects, prototypes and applications where custumization and control are valued.It is popular choice for building APIs due its simplicity, flexibility and extensive ecosystem.\n",
        "\n",
        "\n",
        "4) What is routing in Flask ?\n",
        "  - Routing in Flask is the mechanism that maps specific URLs to python functions, known as \"view functions\" within a Flask application. When a user requests a particular URL, Flask's routing system determines which view function should handle that request and generate a response.\n",
        "\n",
        "\n",
        "5) How do you create a simple Flask application ?\n",
        "  - To create a simple Flask application, first install Flask using pip(pip install flask). Then, import Flask, create an instance of the Flask class and define rotes using decorators. Finally, use app.run() to start the server.\n",
        "  \n",
        "\n",
        "6) What are HTTP methods used in RESTful APIs ?\n",
        "  - HTTP methods commonly used in RESTful APIs include GET(retrieve data), POST( create data ), PUT( update data), DELETE( delete data) and PATCH( partially update data ). These methods define the operations that can be performed on resources.\n",
        "\n",
        "\n",
        "7) What is the purpose of the @app.route() decorator in Flask ?\n",
        "  - The purpose of the @app.route() decorator in Flask is used to bind a python function to a specific URL path, turning that function into a view function that handles requests to that path.\n",
        "\n",
        "\n",
        "8) What is the difference between GET and POST HTTP methods ?\n",
        "  - GET method is primarily for retrieving data and data is visible, while POST method is for sending data to be processed and data is not visible.\n",
        "\n",
        "\n",
        "9) How do you handle errors in Flask APIs ?\n",
        "  - Handling errors in Flask APIs effectively is crucial for building robust, user-friendly and maintainable applications. Here's guide on how to handle errors in a Flask API by using basic error handling with(try-except) , using Flask's(@app.errorhandler) and custom error responses(JSON).\n",
        "\n",
        "\n",
        "10) How do you connect Flask to a SQL database ?\n",
        "  - Flask can be connected to a SQL database using libraries such as Flask-SQLALchemy. First, install SQLALchemy (pip install flask-sqlalchemy), configure the database URL, and create models representing the database tables. We can then query and manipulate the database using SQLALchemy ORM methods.\n",
        "\n",
        "\n",
        "11) What is the role of Flask-SQKALchemy ?\n",
        "  - The role of Flask-SQLALchemy is to provide tools and methods to interact with database in Flask applications through this SQLALchemy.\n",
        "\n",
        "\n",
        "12) What are Flask blueprints and how are they useful ?\n",
        "  - Flask blueprints are a way to organize the Flask applications into reusable and most importantly maintainable units. With blueprints, we can break our application into smaller, more manageable pieces, making it easier to maintain and scale.\n",
        "\n",
        "\n",
        "\n",
        "13) What is the purpose of Flask's request object ?\n",
        "  - The purpose of Flask's request object is to provide a comprehensive interface for accessing and manipulating data associated with an incoming HTTP request sent from a client to the Flask server.\n",
        "\n",
        "\n",
        "14) How do you create a RESTful API endpoint using Flask ?\n",
        " - To create a RESTful API endpoint in Flask, define a function using the @app.route() decorator, specifying the HTTP method(e.g., GET or POST). The function will handle incoming requests and return a response, often in JSON format.\n",
        "\n",
        "\n",
        "\n",
        "\n",
        "15) What is the purpose of Flask's jsonify() function ?\n",
        "  - The jsonify function in Flask is used to convert Python dictionaries or lists into JSON format and set the appropriate response headers. This function makes it easier to send JSON responses from a Flask API.\n",
        "\n",
        "\n",
        "\n",
        "\n",
        "16) Explain Flask's url_for() function.\n",
        "  - The Flask's url_for() function is a utility used to dynamically build URLs for specific functions (view functions) defined within a Flask application. This function is crucial for creating robust and maintainable web applications.\n",
        "\n",
        "\n",
        "\n",
        "17) How does Flask handle static files ( CSS, Javascript, etc.) ?\n",
        "  - Flask handles static files( CSS, Javascript, etc.) from a directory called \"static\". By default, the static folder is accessiblr through the /static URL. Files placed in this folder can be referenced in HTML templates or returned directly by Flask.\n",
        "\n",
        "\n",
        "\n",
        "18) What is an API specification, and how does it help in buildinf a Flask API ?\n",
        "  - An API specification is a clear, written description of how an API works- whar endpoints are available, what data it needs and what it returns. In building a Flask API, an API specification helps by:-\n",
        "    - Planning: Know what to build before coding.\n",
        "    - Consistency: Everyone follows the same structure.\n",
        "    - Communication: Makes it easy for teams and apps to understand and use API.\n",
        "    - Documentation: Can be used to auto-generate docs(like with Swagger).\n",
        "\n",
        "\n",
        "\n",
        "\n",
        "\n",
        "19) What are the HTTP status codes, and why are they important in a Flask API?\n",
        "  - HTTP status codes are 3-digit numbers returned by a server to show the result of a request( like 200 for success, 404 for not found). In a Flask API, they are important because they tell the client what happened(success, error,etc), help with debugging and make the API more reliable and user-friendly.\n",
        "\n",
        "\n",
        "\n",
        "\n",
        "20) How do you handle POST requests in Flask ?\n",
        "  - In Flask, we can handle POST requests by defining a route that listens for them and using the request object to get the data sent by the client.\n",
        "\n",
        "\n",
        "\n",
        "\n",
        "21) How would you secure a Flask API ?\n",
        "  - We would secure a Flask API by the following methods:-\n",
        "      - Use HTTPs to encrypt data.\n",
        "      - Implement authenication(e.g., JWT) and authorization.\n",
        "      - Validate input to prevent injection attacks.\n",
        "      - Configure CORS to restrict access origins.\n",
        "      - Hide error details in response.\n",
        "      - Use ORMs to protect against SQL injection.\n",
        "      - Enable logging and monitoring.\n",
        "\n",
        "\n",
        "\n",
        "\n",
        "\n",
        "22) What is the significance of Flask- RESTful extension ?\n",
        "  - The significance of Flask-RESTful extension is provides a cleaner, more structured approach to defining resources, handling requests and formatting responses, making API development faster and more efficient.\n",
        "\n",
        "\n",
        "\n",
        "\n",
        "23) What is the role of Flask's session object ?\n",
        "  - The role of Flask's session object is to provide a mechanism for storing user-specific data across multiple requests, enabling features like user authenication and preferences. It uses secure cookies to persist small amounts of data on the client side, allowing for personalized and stateful web interactions."
      ],
      "metadata": {
        "id": "hSMHzBPdcCgf"
      }
    },
    {
      "cell_type": "markdown",
      "source": [
        "PRACTICAL-"
      ],
      "metadata": {
        "id": "cJyZDt5jXxt2"
      }
    },
    {
      "cell_type": "code",
      "source": [
        "#1 How do you create a basic Flask application ?\n",
        "\n",
        "from flask import Flask\n",
        "app= Flask(__name__)\n",
        "\n",
        "@app.route('/')\n",
        "def home():\n",
        "  return 'Hello World'\n",
        "\n"
      ],
      "metadata": {
        "colab": {
          "base_uri": "https://localhost:8080/"
        },
        "id": "PfHHZuPTimae",
        "outputId": "ae83a3be-a83d-4cc4-df23-d7d5408d680f"
      },
      "execution_count": null,
      "outputs": [
        {
          "output_type": "stream",
          "name": "stdout",
          "text": [
            " * Serving Flask app '__main__'\n",
            " * Debug mode: on\n"
          ]
        },
        {
          "output_type": "stream",
          "name": "stderr",
          "text": [
            "INFO:werkzeug:\u001b[31m\u001b[1mWARNING: This is a development server. Do not use it in a production deployment. Use a production WSGI server instead.\u001b[0m\n",
            " * Running on http://127.0.0.1:5000\n",
            "INFO:werkzeug:\u001b[33mPress CTRL+C to quit\u001b[0m\n",
            "INFO:werkzeug: * Restarting with stat\n"
          ]
        }
      ]
    },
    {
      "cell_type": "code",
      "source": [
        "#2 How do you serve static files like images or CSS in Flask ?\n",
        "\n",
        "from flask import Flask, send_from_directory\n",
        "app= Flask(__name__)\n",
        "\n",
        "@app.route('/static')\n",
        "def send_static(filename):\n",
        "  return send_from_directory('static', filename)\n",
        "\n",
        "if __name__ =='__main__':\n",
        "  app.run(debug=True)"
      ],
      "metadata": {
        "colab": {
          "base_uri": "https://localhost:8080/"
        },
        "id": "xtuGVR0hj7HS",
        "outputId": "a157f89d-63ce-414d-e9c7-2b007f6f30a7"
      },
      "execution_count": null,
      "outputs": [
        {
          "output_type": "stream",
          "name": "stdout",
          "text": [
            " * Serving Flask app '__main__'\n",
            " * Debug mode: on\n"
          ]
        },
        {
          "output_type": "stream",
          "name": "stderr",
          "text": [
            "INFO:werkzeug:\u001b[31m\u001b[1mWARNING: This is a development server. Do not use it in a production deployment. Use a production WSGI server instead.\u001b[0m\n",
            " * Running on http://127.0.0.1:5000\n",
            "INFO:werkzeug:\u001b[33mPress CTRL+C to quit\u001b[0m\n",
            "INFO:werkzeug: * Restarting with stat\n"
          ]
        }
      ]
    },
    {
      "cell_type": "code",
      "source": [
        "#3 How do you define different routes with different HTTP methods in Flask ?\n",
        "\n",
        "from flask import Flask\n",
        "app= Flask(__name__)\n",
        "\n",
        "@app.route('/greet', methods=['GET'])\n",
        "def greet():\n",
        "  return \"Welcome to the page\"\n",
        "\n",
        "if __name__=='__main__':\n",
        "  app.run(debug= True)\n"
      ],
      "metadata": {
        "id": "7PwBVQgIlCdu",
        "colab": {
          "base_uri": "https://localhost:8080/"
        },
        "outputId": "0d8791ba-5d58-4e36-93c6-3742e5cb689a"
      },
      "execution_count": null,
      "outputs": [
        {
          "output_type": "stream",
          "name": "stdout",
          "text": [
            " * Serving Flask app '__main__'\n",
            " * Debug mode: on\n"
          ]
        },
        {
          "output_type": "stream",
          "name": "stderr",
          "text": [
            "INFO:werkzeug:\u001b[31m\u001b[1mWARNING: This is a development server. Do not use it in a production deployment. Use a production WSGI server instead.\u001b[0m\n",
            " * Running on http://127.0.0.1:5000\n",
            "INFO:werkzeug:\u001b[33mPress CTRL+C to quit\u001b[0m\n",
            "INFO:werkzeug: * Restarting with stat\n"
          ]
        }
      ]
    },
    {
      "cell_type": "code",
      "source": [
        "#4 How do you render HTML templates in Flask ?\n",
        "\n",
        "from flask import Flask,  render_template\n",
        "app= Flask(__name__)\n",
        "\n",
        "@app.route('/')\n",
        "def index():\n",
        "  return render_template('index.html')\n",
        "\n",
        "if __name__=='__main__':\n",
        "  app.run(debug=True)"
      ],
      "metadata": {
        "colab": {
          "base_uri": "https://localhost:8080/"
        },
        "id": "bkyTWohvlTGL",
        "outputId": "4ebf799f-33f2-46ad-a6d9-5794d82955cd"
      },
      "execution_count": null,
      "outputs": [
        {
          "output_type": "stream",
          "name": "stdout",
          "text": [
            " * Serving Flask app '__main__'\n",
            " * Debug mode: on\n"
          ]
        },
        {
          "output_type": "stream",
          "name": "stderr",
          "text": [
            "INFO:werkzeug:\u001b[31m\u001b[1mWARNING: This is a development server. Do not use it in a production deployment. Use a production WSGI server instead.\u001b[0m\n",
            " * Running on http://127.0.0.1:5000\n",
            "INFO:werkzeug:\u001b[33mPress CTRL+C to quit\u001b[0m\n",
            "INFO:werkzeug: * Restarting with stat\n"
          ]
        }
      ]
    },
    {
      "cell_type": "code",
      "source": [
        "#5 How can you generate URLs for routes in Flask using url_for ?\n",
        "\n",
        "from flask import Flask, url_for\n",
        "app= Flask(__name__)\n",
        "\n",
        "@app.route('/home')\n",
        "def home():\n",
        "  return 'This is the first page.'\n",
        "\n",
        "@app.route('/')\n",
        "def index():\n",
        "  return f'Go to page'\n",
        "\n",
        "if __name__=='__main__':\n",
        "  app.run(debug=True)"
      ],
      "metadata": {
        "id": "STFeujYTmJUo",
        "colab": {
          "base_uri": "https://localhost:8080/"
        },
        "outputId": "287dcef1-94d5-4827-84a7-1d33935dc08c"
      },
      "execution_count": null,
      "outputs": [
        {
          "output_type": "stream",
          "name": "stdout",
          "text": [
            " * Serving Flask app '__main__'\n",
            " * Debug mode: on\n"
          ]
        },
        {
          "output_type": "stream",
          "name": "stderr",
          "text": [
            "INFO:werkzeug:\u001b[31m\u001b[1mWARNING: This is a development server. Do not use it in a production deployment. Use a production WSGI server instead.\u001b[0m\n",
            " * Running on http://127.0.0.1:5000\n",
            "INFO:werkzeug:\u001b[33mPress CTRL+C to quit\u001b[0m\n",
            "INFO:werkzeug: * Restarting with stat\n"
          ]
        }
      ]
    },
    {
      "cell_type": "code",
      "source": [
        "#6 How do you handle forms in Flask ?\n",
        "\n",
        "from flask import Flask, request, render_template\n",
        "app=Flask(__name__)\n",
        "\n",
        "@app.route('/')\n",
        "def form():\n",
        "  return render_template('form.html')\n",
        "\n",
        "@app.route('/submit', methods=['POST'])\n",
        "def submit():\n",
        "  name= request.form['name']\n",
        "  return f'Hello,{name}'\n",
        "\n",
        "if __name__=='__main__':\n",
        "  app.run(debug=True)"
      ],
      "metadata": {
        "colab": {
          "base_uri": "https://localhost:8080/"
        },
        "id": "N6NLBYuNAqEe",
        "outputId": "e73badaa-97b9-4335-f41f-a4357690b760"
      },
      "execution_count": null,
      "outputs": [
        {
          "output_type": "stream",
          "name": "stdout",
          "text": [
            " * Serving Flask app '__main__'\n",
            " * Debug mode: on\n"
          ]
        },
        {
          "output_type": "stream",
          "name": "stderr",
          "text": [
            "INFO:werkzeug:\u001b[31m\u001b[1mWARNING: This is a development server. Do not use it in a production deployment. Use a production WSGI server instead.\u001b[0m\n",
            " * Running on http://127.0.0.1:5000\n",
            "INFO:werkzeug:\u001b[33mPress CTRL+C to quit\u001b[0m\n",
            "INFO:werkzeug: * Restarting with stat\n"
          ]
        }
      ]
    },
    {
      "cell_type": "code",
      "source": [
        "#7 How can you validate form data in Flask ?\n",
        "\n",
        "from flask import Flask, request,flash, redirect,url_for\n",
        "app= Flask(__name__)\n",
        "app.secret_key='secret'\n",
        "\n",
        "@app.route('/login', methods=['POST'])\n",
        "def login():\n",
        "  username=request.form['username']\n",
        "  if not username:\n",
        "    flash('username is required')\n",
        "    return redirect(url_for('login'))\n",
        "  return 'login successful'\n",
        "\n",
        "if __name__=='__main__':\n",
        "  app.run(debug=True)"
      ],
      "metadata": {
        "colab": {
          "base_uri": "https://localhost:8080/"
        },
        "id": "86o4v8X8Chge",
        "outputId": "376ac538-71f3-4cf1-e9ed-d844a47a2f1d"
      },
      "execution_count": null,
      "outputs": [
        {
          "output_type": "stream",
          "name": "stdout",
          "text": [
            " * Serving Flask app '__main__'\n",
            " * Debug mode: on\n"
          ]
        },
        {
          "output_type": "stream",
          "name": "stderr",
          "text": [
            "INFO:werkzeug:\u001b[31m\u001b[1mWARNING: This is a development server. Do not use it in a production deployment. Use a production WSGI server instead.\u001b[0m\n",
            " * Running on http://127.0.0.1:5000\n",
            "INFO:werkzeug:\u001b[33mPress CTRL+C to quit\u001b[0m\n",
            "INFO:werkzeug: * Restarting with stat\n"
          ]
        }
      ]
    },
    {
      "cell_type": "code",
      "source": [
        "#8 How do you manage sessions in Flask ?\n",
        "\n",
        "\n",
        "from flask import Flask, session\n",
        "app= Flask(__name__)\n",
        "app.secret_key='secret'\n",
        "\n",
        "@app.route('/set_user')\n",
        "def set_user():\n",
        "  session['user']='Alice'\n",
        "  return 'User set'\n",
        "\n",
        "@app.route('/get_user')\n",
        "def get_user():\n",
        "  return f'logged in as {session.get(\"user\",\"guest\")}'\n",
        "\n",
        "if __name__=='__main__':\n",
        "  app.run(debug=True)"
      ],
      "metadata": {
        "colab": {
          "base_uri": "https://localhost:8080/"
        },
        "id": "IdvhUG21EBzR",
        "outputId": "70c21552-6453-42bf-9eed-4a880e1b4b99"
      },
      "execution_count": null,
      "outputs": [
        {
          "output_type": "stream",
          "name": "stdout",
          "text": [
            " * Serving Flask app '__main__'\n",
            " * Debug mode: on\n"
          ]
        },
        {
          "output_type": "stream",
          "name": "stderr",
          "text": [
            "INFO:werkzeug:\u001b[31m\u001b[1mWARNING: This is a development server. Do not use it in a production deployment. Use a production WSGI server instead.\u001b[0m\n",
            " * Running on http://127.0.0.1:5000\n",
            "INFO:werkzeug:\u001b[33mPress CTRL+C to quit\u001b[0m\n",
            "INFO:werkzeug: * Restarting with stat\n"
          ]
        }
      ]
    },
    {
      "cell_type": "code",
      "source": [
        "#9 How do you redirect to a different route in Flask ?\n",
        "\n",
        "from flask import Flask,redirect, url_for\n",
        "app=Flask(__name__)\n",
        "\n",
        "@app.route('/redirect_home')\n",
        "def redirect_home():\n",
        "  return redirect(url_for('home'))\n",
        "\n",
        "@app.route('/home')\n",
        "def home():\n",
        "  return 'This is the page'\n",
        "\n",
        "if __name__=='__main__':\n",
        "  app.run(debug=True)"
      ],
      "metadata": {
        "colab": {
          "base_uri": "https://localhost:8080/"
        },
        "id": "zY8y09FjEm4R",
        "outputId": "214168bf-057f-46e8-872f-7268e1492223"
      },
      "execution_count": null,
      "outputs": [
        {
          "output_type": "stream",
          "name": "stdout",
          "text": [
            " * Serving Flask app '__main__'\n",
            " * Debug mode: on\n"
          ]
        },
        {
          "output_type": "stream",
          "name": "stderr",
          "text": [
            "INFO:werkzeug:\u001b[31m\u001b[1mWARNING: This is a development server. Do not use it in a production deployment. Use a production WSGI server instead.\u001b[0m\n",
            " * Running on http://127.0.0.1:5000\n",
            "INFO:werkzeug:\u001b[33mPress CTRL+C to quit\u001b[0m\n",
            "INFO:werkzeug: * Restarting with stat\n"
          ]
        }
      ]
    },
    {
      "cell_type": "code",
      "source": [
        "#10 How do you handle errors in Flask(e.g., 404) ?\n",
        "\n",
        "from flask import Flask\n",
        "app= Flask(__name__)\n",
        "\n",
        "@app.errorhandler(404)\n",
        "def page_not_found(error):\n",
        "  return 'Page not found',404\n",
        "\n",
        "@app.route('/')\n",
        "def home():\n",
        "  return 'Welcome to page'\n",
        "\n",
        "if __name__=='__main__':\n",
        "  app.run(debug=True)"
      ],
      "metadata": {
        "colab": {
          "base_uri": "https://localhost:8080/"
        },
        "id": "AD4Kdb5BFzZ8",
        "outputId": "be955fd7-1e77-4c8f-d691-30c29e8845f7"
      },
      "execution_count": null,
      "outputs": [
        {
          "output_type": "stream",
          "name": "stdout",
          "text": [
            " * Serving Flask app '__main__'\n",
            " * Debug mode: on\n"
          ]
        },
        {
          "output_type": "stream",
          "name": "stderr",
          "text": [
            "INFO:werkzeug:\u001b[31m\u001b[1mWARNING: This is a development server. Do not use it in a production deployment. Use a production WSGI server instead.\u001b[0m\n",
            " * Running on http://127.0.0.1:5000\n",
            "INFO:werkzeug:\u001b[33mPress CTRL+C to quit\u001b[0m\n",
            "INFO:werkzeug: * Restarting with stat\n"
          ]
        }
      ]
    },
    {
      "cell_type": "code",
      "source": [
        "#11 How do you structure a Flask app using Blueprints ?\n",
        "\n",
        "from flask import Flask, Blueprint\n",
        "app=Flask(__name__)\n",
        "\n",
        "bp=Blueprint('home',__name__)\n",
        "\n",
        "@bp.route('/')\n",
        "def index():\n",
        "  return 'Home Page'\n",
        "\n",
        "app.register_blueprint(bp)\n",
        "\n",
        "if __name__=='__main__':\n",
        "  app.run(debug=True)\n",
        ""
      ],
      "metadata": {
        "colab": {
          "base_uri": "https://localhost:8080/"
        },
        "id": "2N8U73YmlefK",
        "outputId": "c9a874ea-7012-4d14-9b83-fbf7977279d6"
      },
      "execution_count": 1,
      "outputs": [
        {
          "output_type": "stream",
          "name": "stdout",
          "text": [
            " * Serving Flask app '__main__'\n",
            " * Debug mode: on\n"
          ]
        },
        {
          "output_type": "stream",
          "name": "stderr",
          "text": [
            "INFO:werkzeug:\u001b[31m\u001b[1mWARNING: This is a development server. Do not use it in a production deployment. Use a production WSGI server instead.\u001b[0m\n",
            " * Running on http://127.0.0.1:5000\n",
            "INFO:werkzeug:\u001b[33mPress CTRL+C to quit\u001b[0m\n",
            "INFO:werkzeug: * Restarting with stat\n"
          ]
        }
      ]
    },
    {
      "cell_type": "code",
      "source": [
        "#12 How do you define a custum Jinja filter in Flask ?\n",
        "\n",
        "from flask import Flask\n",
        "app=Flask(__name__)\n",
        "\n",
        "@app.template_filter('reverse')\n",
        "def reverse_filter(s):\n",
        "  return s[::-1]\n",
        "\n",
        "@app.route('/')\n",
        "def home():\n",
        "  return render_template('home.html',name='Flask')\n",
        "\n",
        "if __name__ =='__main__':\n",
        "  app.run(debug=True)\n"
      ],
      "metadata": {
        "colab": {
          "base_uri": "https://localhost:8080/"
        },
        "id": "9nwvd2X8nHq1",
        "outputId": "f95dbea8-c155-4c61-9d76-1bf4dfaa53d8"
      },
      "execution_count": 3,
      "outputs": [
        {
          "output_type": "stream",
          "name": "stdout",
          "text": [
            " * Serving Flask app '__main__'\n",
            " * Debug mode: on\n"
          ]
        },
        {
          "output_type": "stream",
          "name": "stderr",
          "text": [
            "INFO:werkzeug:\u001b[31m\u001b[1mWARNING: This is a development server. Do not use it in a production deployment. Use a production WSGI server instead.\u001b[0m\n",
            " * Running on http://127.0.0.1:5000\n",
            "INFO:werkzeug:\u001b[33mPress CTRL+C to quit\u001b[0m\n",
            "INFO:werkzeug: * Restarting with stat\n"
          ]
        }
      ]
    },
    {
      "cell_type": "code",
      "source": [
        "#13 How can you redirect with query parameters in Flask ?\n",
        "\n",
        "from flask import Flask, redirect, url_for\n",
        "app=Flask(__name__)\n",
        "\n",
        "@app.route('/redirect_with_query')\n",
        "def redirect_with_query():\n",
        "  return redirect(url_for('home',username='Alice'))\n",
        "\n",
        "@app.route('/home')\n",
        "def home():\n",
        "    return f'welcome,{request.args.get(\"username\")}'\n",
        "\n",
        "if __name__=='__main__':\n",
        "    app.run(debug=True)"
      ],
      "metadata": {
        "colab": {
          "base_uri": "https://localhost:8080/"
        },
        "id": "vkMN1xFooq0h",
        "outputId": "3bee6c85-4fb1-476d-d588-a37a375c126f"
      },
      "execution_count": 8,
      "outputs": [
        {
          "output_type": "stream",
          "name": "stdout",
          "text": [
            " * Serving Flask app '__main__'\n",
            " * Debug mode: on\n"
          ]
        },
        {
          "output_type": "stream",
          "name": "stderr",
          "text": [
            "INFO:werkzeug:\u001b[31m\u001b[1mWARNING: This is a development server. Do not use it in a production deployment. Use a production WSGI server instead.\u001b[0m\n",
            " * Running on http://127.0.0.1:5000\n",
            "INFO:werkzeug:\u001b[33mPress CTRL+C to quit\u001b[0m\n",
            "INFO:werkzeug: * Restarting with stat\n"
          ]
        }
      ]
    },
    {
      "cell_type": "code",
      "source": [
        "#14 How do you return JSON responses in Flask ?\n",
        "\n",
        "from flask import Flask, jsonify\n",
        "app=Flask(__name__)\n",
        "\n",
        "@app.route('/data')\n",
        "def data():\n",
        "  return jsonify({\"name\":\"Flask\",\"version\":\"2.0\"})\n",
        "\n",
        "if __name__=='__main__':\n",
        "  app.run(debug=True)"
      ],
      "metadata": {
        "colab": {
          "base_uri": "https://localhost:8080/"
        },
        "id": "9SjihJTSqV96",
        "outputId": "264a8340-1a8f-4195-bb71-0f72b1a71d06"
      },
      "execution_count": 9,
      "outputs": [
        {
          "output_type": "stream",
          "name": "stdout",
          "text": [
            " * Serving Flask app '__main__'\n",
            " * Debug mode: on\n"
          ]
        },
        {
          "output_type": "stream",
          "name": "stderr",
          "text": [
            "INFO:werkzeug:\u001b[31m\u001b[1mWARNING: This is a development server. Do not use it in a production deployment. Use a production WSGI server instead.\u001b[0m\n",
            " * Running on http://127.0.0.1:5000\n",
            "INFO:werkzeug:\u001b[33mPress CTRL+C to quit\u001b[0m\n",
            "INFO:werkzeug: * Restarting with stat\n"
          ]
        }
      ]
    },
    {
      "cell_type": "code",
      "source": [
        "#15 How do you capture URL parameters in Flask ?\n",
        "\n",
        "from flask import Flask\n",
        "app=Flask(__name__)\n",
        "\n",
        "@app.route('/user/')\n",
        "def user(username):\n",
        "  return f\"Hello{username}!\"\n",
        "\n",
        "if __name__=='__main__':\n",
        "  app.run(debug=True)\n",
        "\n"
      ],
      "metadata": {
        "colab": {
          "base_uri": "https://localhost:8080/"
        },
        "id": "X2WdWDDyrUzB",
        "outputId": "e8246360-4c35-4dd6-e8ec-044ef123ab9f"
      },
      "execution_count": 14,
      "outputs": [
        {
          "output_type": "stream",
          "name": "stdout",
          "text": [
            " * Serving Flask app '__main__'\n",
            " * Debug mode: on\n"
          ]
        },
        {
          "output_type": "stream",
          "name": "stderr",
          "text": [
            "INFO:werkzeug:\u001b[31m\u001b[1mWARNING: This is a development server. Do not use it in a production deployment. Use a production WSGI server instead.\u001b[0m\n",
            " * Running on http://127.0.0.1:5000\n",
            "INFO:werkzeug:\u001b[33mPress CTRL+C to quit\u001b[0m\n",
            "INFO:werkzeug: * Restarting with stat\n"
          ]
        }
      ]
    }
  ]
}