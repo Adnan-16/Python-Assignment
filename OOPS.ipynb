{
  "nbformat": 4,
  "nbformat_minor": 0,
  "metadata": {
    "colab": {
      "provenance": [],
      "toc_visible": true
    },
    "kernelspec": {
      "name": "python3",
      "display_name": "Python 3"
    },
    "language_info": {
      "name": "python"
    }
  },
  "cells": [
    {
      "cell_type": "markdown",
      "source": [
        "**THEORITICAL -**"
      ],
      "metadata": {
        "id": "GKo74ylRO1JY"
      }
    },
    {
      "cell_type": "markdown",
      "source": [
        "1) What is Object-Oriented Programming (OOP) ?\n",
        "  - Object-Oriented Programming (OOP) is a style of programming paradigm based on the concepts of objects. Objects can contain data and have actions they can perform.\n",
        "\n",
        "\n",
        "2) What is a class in OOP ?\n",
        "  - Class in OOP is a user-defined data structure that combines the methods and data members into a single entity. Classes are blueprint or template for creating an object.\n",
        "\n",
        "\n",
        "3) What is an object in OOP ?\n",
        "  - Object in OOP is an instance of a class. It consists of a set of methods and attributes. Actions are carried out using a class's object. Objects have two qualities. They exhibit states and actions.\n",
        "\n",
        "\n",
        "4) What is the difference between abstraction and encapsulation ?\n",
        "  - Abstraction in python is the process of simplifying complex systems by exposing only the essential features and hiding the unnecessary details and also it helps you focus on what an object does while enscapulation is the technique of bundling the data and methods thata operate on that data into a single unit or class and it also ensures you control how its internal data is accessed and modified.\n",
        "\n",
        "\n",
        "5) What are dunder methods in python ?\n",
        "  - Dunder methods in python are also known as magic methods or special methods. They are special reserved methods that are surrounded by double underscores (i.e. _  _ method _ _ ). These methods allow to define how instances of the classes behave when they are used with built-in python functions or operators.\n",
        "\n",
        "\n",
        "6) Explain the concept of inheritance in OOP.\n",
        "  - Inheritance plays a significant role in OOP. Inheritance in python refers to the process of a child class recieving the parent class's properties. The reuse of code is inheritance's main goal.\n",
        "\n",
        "\n",
        "7) What is polymorphism in OOP ?\n",
        "  - Polymorphism in OOP refers to an object's capability to assume several forms. Simply said, polymorphism enables us to carry out a single activity in a vareity of ways. In python, polymorphism is achieved through mrthod overloading and method overriding.\n",
        "\n",
        "\n",
        "8) How enscapulation achieved in python ?\n",
        "  - Enscapulation achieved in python through the use of access modifiers which restrict access to the methods and variables of a class. A class's data members and methods can be made private or protected in order to achieve enscapulation. Direct access modifiers like public, private and protected don't exit in python, though, single and double underscores can be used to accomplish this.\n",
        "\n",
        "\n",
        "9) What is a constructor in python ?\n",
        "  - A constructor in python is a particular method used in object-oriented programming to generate and iniatialise an object of a class, this method is defined.\n",
        "\n",
        "\n",
        "\n",
        "10) What are class and static methods in python ?\n",
        "  - Class method used to access or alter the class state. If we exclusively use class variebles when implementing a method, we should declare that method as a class method.\n",
        "   Static method is a general utility method that handles a single task and since this method is static , doesn't have access to class attributes and don't use instance or class variables within it.\n",
        "\n",
        "\n",
        "\n",
        "11) What is method overloading in python ?\n",
        "  - Method overloading is the practice of invoking the same method more than once with different parameters. Method overloading is not supported by python, even if overload the method, python only takes into account the most recent definition and also a 'TypeError' will be raised.\n",
        "\n",
        "\n",
        "12) What is method overriding in OOP ?\n",
        "   - Method overriding in OOP is the process of providing a different implementation for a method that is already defined in the superclass within a subclass. It enables the subclass to define its own version of a method with the same name and parameters as the method in the superclass.\n",
        "\n",
        "\n",
        "13) What is a property decorator in python ?\n",
        "  - Property decorator in python allows to use class methods as an attributes.\n",
        "\n",
        "\n",
        "14) Why is polymorphism important in OOP ?\n",
        "  - Polymorphism is important in OOP because it enhances flexiblity, code reusability and maintainability.\n",
        "\n",
        "\n",
        "15) What is an abstract class in python ?\n",
        " - An abstract class in python is a class that cannot be instantiated and must be subclassed. They may contain abstract methods that are declared but not implemented in the abstract class itself.\n",
        "\n",
        "\n",
        " 16) What are the advantages of OOP ?\n",
        "   - The advantages of OOP are -\n",
        "     - Promotes code reuse via inheritance.\n",
        "     - Improves modularity, organization and readability.\n",
        "     - Ensapulation improves security and prevents accidental changes.\n",
        "     - Polymorphism and abstraction enhance flexiblility and sacalablity.\n",
        "\n",
        "\n",
        "17) What is the difference between a class variable and an instance variable ?\n",
        " - Class variable that is declared inside a class but outside of any instance methods or init() methods.\n",
        " - Instance variable is property that is joined to a class instance. In the constructor, we define instance variable.\n",
        "\n",
        "\n",
        "18) What is multiple inheritance in python ?\n",
        " - Here one child class may inherit from several parent classes when there is multiple inheritance in python.\n",
        "\n",
        "\n",
        "19) Explain the purpose of \"_ _ str _ _\" and \"_ _ repr _ _\" methods in python.\n",
        " - \"_ _ str _ _\" : This method is called when the str() function is used on an instance of the class. It should return a string representation of the object.\n",
        " - \"_ _ repr _ _\" : This method is called when the repr() function is use on an instance of the class. It should return an unambiguous string representation of object, which cannot be used to recreate the object.\n",
        "\n",
        "\n",
        "20) What is the significance of the 'super()' function in python ?\n",
        " - Super() is used to call methods of the parent class from a child class. It is commonly used in constructors to initialize parent class attributes.\n",
        "\n",
        "\n",
        "\n",
        "21) What is the significance of the \"_ _ del _ _\" method in python ?\n",
        " - \"_ _ del _ _\" method in python is a powerful tool for managing resourse cleanup when objects are destroyed.\n",
        "\n",
        "\n",
        "22) What is the difference between @staticmethod and @classmethod in python ?\n",
        "  -  @classmethod takes the class itself as the first argument whereas @staticmethod which can be called without creating any instance of class, and without using self.\n",
        "\n",
        "\n",
        "23) How does polymorphoism work in python with inheritance ?\n",
        " - Polymorphism work in python with inheritance by method overriding, which enables to define child class methods with the same names as parent class methods.\n",
        "\n",
        "\n",
        "24) What is method chaining in python OOP ?\n",
        " - Method chaining is a technique where multiple methods are called sequentially on the same object in a single line. Each method returns self to allow the chain to continue.\n",
        "\n",
        "\n",
        "25) What is the purpose of the \"_ _ call _ _\" method in python ?\n",
        " - The \"_ _ call _ _\" method in python is a special method which is called or invoked when we call instance or object of a class as a function.\n"
      ],
      "metadata": {
        "id": "VEM3FQnFPUfy"
      }
    },
    {
      "cell_type": "markdown",
      "source": [
        "**PRACTICAL-**"
      ],
      "metadata": {
        "id": "Z4YGC5YW1oB7"
      }
    },
    {
      "cell_type": "code",
      "source": [
        "#1 Create a parent class Animal with a method speak() that prints a generic message, create a child class Dog that overriddes the spaek() method to print \"Bark\"\n",
        "\n",
        "class Animal:\n",
        "  def speak(self):\n",
        "      print(\"Animal speaks\")\n",
        "\n",
        "class Dog(Animal):\n",
        "  def speak(self):\n",
        "      print(\"Barks\")\n",
        "\n",
        "anm = Animal()\n",
        "anm.speak()\n",
        "\n",
        "dog = Dog()\n",
        "dog.speak()\n",
        "\n"
      ],
      "metadata": {
        "id": "NUN0S8m01wGU",
        "colab": {
          "base_uri": "https://localhost:8080/"
        },
        "outputId": "3f9bbdfb-4ca7-45d0-ccd9-400be7c7374a"
      },
      "execution_count": null,
      "outputs": [
        {
          "output_type": "stream",
          "name": "stdout",
          "text": [
            "Animal speaks\n",
            "Barks\n"
          ]
        }
      ]
    },
    {
      "cell_type": "code",
      "source": [
        "#2 Write a program to create an abstract class shape with a method area(). Derive classes circle and rectangle from it and implement the area() method in both\n",
        "\n",
        "from abc import ABC, abstractmethod\n",
        "import math\n",
        "\n",
        "class Shape(ABC):\n",
        "  @abstractmethod\n",
        "  def area(self):\n",
        "    pass\n",
        "class Circle(Shape):\n",
        "  def __init__(self,radius):\n",
        "    self.radius = radius\n",
        "  def area(self):\n",
        "    return math.pi*self.radius**2\n",
        "\n",
        "class Rectangle(Shape):\n",
        "  def __init__(self,length, width):\n",
        "    self.length = length\n",
        "    self.width = width\n",
        "  def area (self):\n",
        "    return self.length*self.width\n",
        "\n",
        "c= Circle(4)\n",
        "r = Rectangle(6,9)\n",
        "print(c.area())\n",
        "print(r.area())"
      ],
      "metadata": {
        "colab": {
          "base_uri": "https://localhost:8080/"
        },
        "id": "xHvaEG92FVPX",
        "outputId": "242f7e73-27ca-4bc0-dd43-cb38391f762b"
      },
      "execution_count": null,
      "outputs": [
        {
          "output_type": "stream",
          "name": "stdout",
          "text": [
            "50.26548245743669\n",
            "54\n"
          ]
        }
      ]
    },
    {
      "cell_type": "code",
      "source": [
        "#3 Implement a mutlilevel inheritance scenario where a class vehicle has an attribute type. Derive a class car and further derive a class electric car that adds a baterry attribute\n",
        "\n",
        "class Vehicle:\n",
        "  def info(self,name):\n",
        "    print(\"This is vehicle\")\n",
        "\n",
        "class Car(Vehicle):\n",
        "  def car_info(self,name):\n",
        "    print(\"This is car info\",name)\n",
        "\n",
        "class ElectricCar(Car):\n",
        "  def electricCar_info(self, name, type):\n",
        "    print(\"This is Electric Car\", name,type)\n",
        "\n",
        "ecar = ElectricCar()\n",
        "ecar.electricCar_info(\"Tesla\", \"Battery type\")\n",
        "\n",
        "\n",
        "\n",
        "\n"
      ],
      "metadata": {
        "colab": {
          "base_uri": "https://localhost:8080/"
        },
        "id": "BpKHXAY_JoRV",
        "outputId": "b751feb2-d7c7-4882-9fc6-5b2494af9291"
      },
      "execution_count": null,
      "outputs": [
        {
          "output_type": "stream",
          "name": "stdout",
          "text": [
            "This is Electric Car Tesla Battery type\n"
          ]
        }
      ]
    },
    {
      "cell_type": "code",
      "source": [
        "#4 Demonstrate polymorphism by creating a base class Bird with a method fly(). Create two derived classes sparrow and penguin that override the fly().\n",
        "\n",
        "class Bird:\n",
        "  def fly(self):\n",
        "    print(\"Birds can fly\")\n",
        "\n",
        "class Sparrow(Bird):\n",
        "  def fly(self):\n",
        "    print(\"Sparrows can fly\")\n",
        "\n",
        "class Penguin(Bird):\n",
        "  def fly(self):\n",
        "    print(\"Penguins can't fly\")\n",
        "\n",
        "b= Bird()\n",
        "b.fly()\n",
        "\n",
        "s = Sparrow()\n",
        "s.fly()\n",
        "\n",
        "p=Penguin()\n",
        "p.fly()"
      ],
      "metadata": {
        "colab": {
          "base_uri": "https://localhost:8080/"
        },
        "id": "2kluzjF5OU2c",
        "outputId": "e87f7108-463d-4ebb-ac39-6eb02f3b9e58"
      },
      "execution_count": null,
      "outputs": [
        {
          "output_type": "stream",
          "name": "stdout",
          "text": [
            "Birds can fly\n",
            "Sparrows can fly\n",
            "Penguins can't fly\n"
          ]
        }
      ]
    },
    {
      "cell_type": "code",
      "source": [
        "# 5 Write a program to demonstrate enscapulation by creating a class BankAccount with private attributes balance and methods to deposit, withdraw and check balance.\n",
        "\n",
        "class BankAccount:\n",
        "  def __init__ (self):\n",
        "    self.__balance= 0\n",
        "\n",
        "  def deposit(self,amount):\n",
        "    self.__balance = self.__balance+amount\n",
        "\n",
        "  def withdraw(self,amount):\n",
        "    if self.__balance>=amount:\n",
        "      self.__balance=self.__balance-amount\n",
        "      return True\n",
        "    else:\n",
        "      return False\n",
        "\n",
        "  def check_balance(self):\n",
        "    return self.__balance\n",
        "\n",
        "acc= BankAccount()\n",
        "acc.deposit(2000)\n",
        "acc.withdraw(500)\n",
        "print(acc.check_balance())\n"
      ],
      "metadata": {
        "id": "12in18CWQlBJ",
        "colab": {
          "base_uri": "https://localhost:8080/"
        },
        "outputId": "0a54d049-b5d5-44a5-a05b-2c9ce938d5e9"
      },
      "execution_count": null,
      "outputs": [
        {
          "output_type": "stream",
          "name": "stdout",
          "text": [
            "1500\n"
          ]
        }
      ]
    },
    {
      "cell_type": "code",
      "source": [
        "#6 Demonstrate runtime polymorphism using a  method play() in a base classs instrument. Derive classes Guitar and Piano their own version of play().\n",
        "\n",
        "class Instrument:\n",
        "  def play(self):\n",
        "    print(\"Instrument is playing\")\n",
        "\n",
        "class Guitar(Instrument):\n",
        "  def play(self):\n",
        "    print(\"guitar is playing\")\n",
        "\n",
        "class Piano(Instrument):\n",
        "  def play(self):\n",
        "    print(\"Piano is playing\")\n",
        "\n",
        "inst1= Guitar()\n",
        "inst2 = Piano()\n",
        "\n",
        "inst_obj = [inst1,inst2]\n",
        "def parcer(inst_obj):\n",
        "    for i in inst_obj:\n",
        "      i.play()\n",
        "parcer(inst_obj)"
      ],
      "metadata": {
        "id": "jHcx9W0AROJS",
        "colab": {
          "base_uri": "https://localhost:8080/"
        },
        "outputId": "54523c79-7a03-46b6-fd5e-7d3505a7d1ae"
      },
      "execution_count": null,
      "outputs": [
        {
          "output_type": "stream",
          "name": "stdout",
          "text": [
            "guitar is playing\n",
            "Piano is playing\n"
          ]
        }
      ]
    },
    {
      "cell_type": "code",
      "source": [
        "#7 Create a class MathOperations with a class method add_numbers() to add two numbers and a static method metthod subtract_numbers() to subtract two numbers.\n",
        "\n",
        "class MathOperations:\n",
        "  @classmethod\n",
        "  def add_numbers(cls,a,b):\n",
        "      return a+b\n",
        "\n",
        "  @staticmethod\n",
        "  def subtract_numbers(a,b):\n",
        "       return a-b\n",
        "\n",
        "print(MathOperations.add_numbers(13,6))\n",
        "print(MathOperations.subtract_numbers(13,6))"
      ],
      "metadata": {
        "colab": {
          "base_uri": "https://localhost:8080/"
        },
        "id": "CWy4GmlgGOST",
        "outputId": "c46a9a2d-3217-494e-b88d-6be8913d6944"
      },
      "execution_count": null,
      "outputs": [
        {
          "output_type": "stream",
          "name": "stdout",
          "text": [
            "19\n",
            "7\n"
          ]
        }
      ]
    },
    {
      "cell_type": "code",
      "source": [
        "#8 Implement a class Person with a class method to count the total number of persons created.\n",
        "\n",
        "class Person:\n",
        "  count_total = 0\n",
        "  def __init__ (self,name):\n",
        "    self.name = name\n",
        "    Person.count_total = Person.count_total+1\n",
        "\n",
        "  @classmethod\n",
        "  def get_count_total(cls):\n",
        "    return cls.count_total\n",
        "Person.count_total\n",
        "\n",
        "p1= Person(\"Rahul\")\n",
        "p2=Person(\"Riya\")\n",
        "p3 = Person(\"Sam\")\n",
        "\n",
        "print(Person.get_count_total())\n",
        "\n",
        "\n"
      ],
      "metadata": {
        "colab": {
          "base_uri": "https://localhost:8080/"
        },
        "id": "rldUn0N6IYyR",
        "outputId": "3ba65874-4f63-4949-8ebb-0b13ecb3d00f"
      },
      "execution_count": null,
      "outputs": [
        {
          "output_type": "stream",
          "name": "stdout",
          "text": [
            "3\n"
          ]
        }
      ]
    },
    {
      "cell_type": "code",
      "source": [
        "#9 Write a class Fraction with attributes numerator and denominator. Override the str method to display the fraction as \"numerator/denominator\".\n",
        "\n",
        "class Fraction:\n",
        "  def __init__ (self,numerator,denominator):\n",
        "    self.numerator = numerator\n",
        "    self.denominator = denominator\n",
        "\n",
        "  def __str__(self):\n",
        "    return f\"{self.numerator}/{self.denominator}\"\n",
        "\n",
        "f = Fraction(3, 8)\n",
        "print(f)\n"
      ],
      "metadata": {
        "colab": {
          "base_uri": "https://localhost:8080/"
        },
        "id": "B7UVodeMI7bT",
        "outputId": "d0cb4891-e059-46a7-9321-f17a58ee2837"
      },
      "execution_count": null,
      "outputs": [
        {
          "output_type": "stream",
          "name": "stdout",
          "text": [
            "3/8\n"
          ]
        }
      ]
    },
    {
      "cell_type": "code",
      "source": [
        "#10 Demonstrate operator overloading by creating a class vector and overriding the add method to add two vectors.\n",
        "\n",
        "\n",
        "class Vector:\n",
        "  def __init__(self,a,b):\n",
        "    self.a = a\n",
        "    self.b= b\n",
        "  def __add__(self,other):\n",
        "    return Vector(self.a+other.a, self.b+other.b)\n",
        "\n",
        "  def __str__(self):\n",
        "    return f\"{self.a},{self.b}\"\n",
        "\n",
        "v1 = Vector(3,4)\n",
        "v2 = Vector(6,7)\n",
        "print(v1+v2)"
      ],
      "metadata": {
        "colab": {
          "base_uri": "https://localhost:8080/"
        },
        "id": "VBEPJZLqJi5N",
        "outputId": "0fcbc5ae-befb-416c-f9ec-74faade05967"
      },
      "execution_count": null,
      "outputs": [
        {
          "output_type": "stream",
          "name": "stdout",
          "text": [
            "9,11\n"
          ]
        }
      ]
    },
    {
      "cell_type": "code",
      "source": [
        "#11  Create a class Person with attributes name and age .Add a method greet() that prints \"Hello, my name is {name} and I am {age} years old\".\n",
        "\n",
        "class Person:\n",
        "  def __init__ (self, name ,age):\n",
        "      self.name = name\n",
        "      self.age = age\n",
        "\n",
        "  def greet(self):\n",
        "    print(f\"Hello, My name is {self.name} and I am {self.age} years old\")\n",
        "\n",
        "p= Person(\"Sam\", 22)\n",
        "p.greet()\n"
      ],
      "metadata": {
        "colab": {
          "base_uri": "https://localhost:8080/"
        },
        "id": "aqfaPaumR7yE",
        "outputId": "242f740f-ad00-46c9-9cdf-4ce27fbc7a0d"
      },
      "execution_count": null,
      "outputs": [
        {
          "output_type": "stream",
          "name": "stdout",
          "text": [
            "Hello, My name is Sam and I am 22 years old\n"
          ]
        }
      ]
    },
    {
      "cell_type": "code",
      "source": [
        "#12 Implement a class Student with attributes name and grades. Create a method average_grade() to compute the average of the grades.\n",
        "\n",
        "\n",
        "class Student:\n",
        "  def __init__(self, name,grades):\n",
        "    self.name = name\n",
        "    self.grades = grades\n",
        "\n",
        "  def average_grades(self):\n",
        "    return sum(self.grades) / len(self.grades)\n",
        "\n",
        "stud = Student(\"Rahul\",[85,70,93])\n",
        "print(stud.average_grades())\n",
        "\n",
        "\n"
      ],
      "metadata": {
        "colab": {
          "base_uri": "https://localhost:8080/"
        },
        "id": "0cUSWzXNSdc_",
        "outputId": "108865fa-21a3-4eab-df23-fa40661d20aa"
      },
      "execution_count": null,
      "outputs": [
        {
          "output_type": "stream",
          "name": "stdout",
          "text": [
            "82.66666666666667\n"
          ]
        }
      ]
    },
    {
      "cell_type": "code",
      "source": [
        "#13 Create a class Rectangle with methods set_dimensions() to set the dimensions and area() to calculate the area.\n",
        "\n",
        "class Rectangle:\n",
        "  def set_dimensions(self, length,width):\n",
        "    self.length = length\n",
        "    self.width = width\n",
        "\n",
        "  def area(self):\n",
        "    return self.length*self.width\n",
        "\n",
        "r= Rectangle()\n",
        "r.set_dimensions(14,9)\n",
        "print(r.area())"
      ],
      "metadata": {
        "colab": {
          "base_uri": "https://localhost:8080/"
        },
        "id": "_4BslPx-LDDF",
        "outputId": "7c3fb019-bde5-4b61-d126-01d2b645b870"
      },
      "execution_count": 2,
      "outputs": [
        {
          "output_type": "stream",
          "name": "stdout",
          "text": [
            "126\n"
          ]
        }
      ]
    },
    {
      "cell_type": "code",
      "source": [
        "#14 Create a class Employee with a method calculate_salary() that computes the salary based on hours worked and horly rate. Create a derived class Manager that adds a bonus to the salary.\n",
        "\n",
        "class Employee:\n",
        "  def calculate_salary(self, hours_worked, hourly_rate):\n",
        "    return hours_worked*hourly_rate\n",
        "\n",
        "class Manager(Employee):\n",
        "  def calculate_salary(self,hours_worked, hourly_rate,bonus):\n",
        "    return super().calculate_salary(hours_worked, hourly_rate)+bonus\n",
        "\n",
        "e= Employee()\n",
        "m= Manager()\n",
        "print(e.calculate_salary(50,300))\n",
        "print(m.calculate_salary(50,300, 8000))\n"
      ],
      "metadata": {
        "colab": {
          "base_uri": "https://localhost:8080/"
        },
        "id": "7O0GwFbbQGif",
        "outputId": "67b40962-c035-4a7e-8f7c-a62d5f8e25de"
      },
      "execution_count": 8,
      "outputs": [
        {
          "output_type": "stream",
          "name": "stdout",
          "text": [
            "15000\n",
            "23000\n"
          ]
        }
      ]
    },
    {
      "cell_type": "code",
      "source": [
        "#15 Create a class Product with attributes name, price and quantity.  Implement a method total_price() that calculate the the total price of the product.\n",
        "\n",
        "class Product:\n",
        "  def __init__(self,name, price, quantity):\n",
        "    self.name = name\n",
        "    self.price= price\n",
        "    self.quantity = quantity\n",
        "\n",
        "  def total_price(self):\n",
        "    return f\"total price of the product is {self.price*self.quantity}\"\n",
        "\n",
        "p = Product(\"Apples\", 100,6)\n",
        "print(p.total_price())"
      ],
      "metadata": {
        "colab": {
          "base_uri": "https://localhost:8080/"
        },
        "id": "aYc5YM7PQ0Cq",
        "outputId": "9ed644dd-ac51-43d6-bdd1-dc89254978b9"
      },
      "execution_count": 5,
      "outputs": [
        {
          "output_type": "stream",
          "name": "stdout",
          "text": [
            "total price of the product is 600\n"
          ]
        }
      ]
    },
    {
      "cell_type": "code",
      "source": [
        "#16 Create a class Animal with an abstract method sound(). Create two derived classes cow and sheep that implement the sound() method.\n",
        "\n",
        "from abc import ABC ,abstractmethod\n",
        "\n",
        "class Animal(ABC):\n",
        "  @abstractmethod\n",
        "  def sound(self):\n",
        "    pass\n",
        "\n",
        "class Cow(Animal):\n",
        "  def sound(self):\n",
        "    return \"Moo\"\n",
        "\n",
        "class Sheep(Animal):\n",
        "  def sound(self):\n",
        "    return \"Baa\"\n",
        "\n",
        "c= Cow()\n",
        "s= Sheep()\n",
        "print(c.sound())\n",
        "print(s.sound())"
      ],
      "metadata": {
        "colab": {
          "base_uri": "https://localhost:8080/"
        },
        "id": "kIPTpLJiU2nm",
        "outputId": "e153d025-f6bc-4e47-e443-2ff2dede5fed"
      },
      "execution_count": 11,
      "outputs": [
        {
          "output_type": "stream",
          "name": "stdout",
          "text": [
            "Moo\n",
            "Baa\n"
          ]
        }
      ]
    },
    {
      "cell_type": "code",
      "source": [
        "#17 Create a class book with attributes title , author and year_published. Add a method get_book_info() that returns a formatted string with the book's details.\n",
        "\n",
        "class Book:\n",
        "  def __init__(self,title,author,year_published):\n",
        "    self.title=title\n",
        "    self.author= author\n",
        "    self.year_published= year_published\n",
        "\n",
        "  def get_book_info(self):\n",
        "    return f\"{self.title} by {self.author} published in {self.year_published}\"\n",
        "\n",
        "b = Book(\"Don't Believe Everything You Think\", \"Joseph Nguyen\", 2022)\n",
        "print(b.get_book_info())"
      ],
      "metadata": {
        "colab": {
          "base_uri": "https://localhost:8080/"
        },
        "id": "qw8Xc5gRXZEC",
        "outputId": "0d995af8-b04e-4fac-8ba3-56ba0e58fef2"
      },
      "execution_count": 13,
      "outputs": [
        {
          "output_type": "stream",
          "name": "stdout",
          "text": [
            "Don't Believe Everything You Think by Joseph Nguyen published in 2022\n"
          ]
        }
      ]
    },
    {
      "cell_type": "code",
      "source": [
        "#18 Create a class house with attributes address and price. Create a derived class Mansion that adds on attribute number_of_rooms.\n",
        "\n",
        "class House:\n",
        "  def __init__(self, address, price):\n",
        "    self.address= address\n",
        "    self.price= price\n",
        "\n",
        "class Mansion(House):\n",
        "  def __init__(self, address, price, number_of_rooms):\n",
        "    super().__init__(address,price)\n",
        "    self.number_of_rooms = number_of_rooms\n",
        "\n",
        "m= Mansion(\"Park Street\", 150000,12)\n",
        "print(m.address, m.price, m.number_of_rooms)"
      ],
      "metadata": {
        "colab": {
          "base_uri": "https://localhost:8080/"
        },
        "id": "elZTjIG-ZsKF",
        "outputId": "8cad4126-05d5-45f3-f718-1c2b26a93197"
      },
      "execution_count": 17,
      "outputs": [
        {
          "output_type": "stream",
          "name": "stdout",
          "text": [
            "Park Street 150000 12\n"
          ]
        }
      ]
    }
  ]
}